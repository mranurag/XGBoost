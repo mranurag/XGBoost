{
 "cells": [
  {
   "cell_type": "code",
   "execution_count": 1,
   "metadata": {
    "collapsed": true,
    "deletable": true,
    "editable": true
   },
   "outputs": [],
   "source": [
    "import os\n",
    "mingw_path=\"C:\\\\Program Files\\\\mingw-w64\\\\x86_64-7.2.0-posix-seh-rt_v5-rev1\\mingw64\\\\bin\"\n",
    "os.environ['PATH'] = mingw_path + ';' + os.environ['PATH']"
   ]
  },
  {
   "cell_type": "code",
   "execution_count": 26,
   "metadata": {
    "collapsed": true,
    "deletable": true,
    "editable": true
   },
   "outputs": [],
   "source": [
    "from xgboost import XGBClassifier\n",
    "from sklearn.preprocessing import LabelEncoder\n",
    "from sklearn.model_selection import train_test_split\n",
    "import pandas as pd\n",
    "import numpy as np\n",
    "from sklearn.metrics import  accuracy_score\n",
    "from sklearn.preprocessing import OneHotEncoder\n",
    "from numpy import column_stack\n"
   ]
  },
  {
   "cell_type": "code",
   "execution_count": 31,
   "metadata": {
    "collapsed": false,
    "deletable": true,
    "editable": true
   },
   "outputs": [
    {
     "name": "stdout",
     "output_type": "stream",
     "text": [
      "[[\"'40-49'\" \"'premeno'\" \"'15-19'\" ..., \"'left_up'\" \"'no'\"\n",
      "  \"'recurrence-events'\"]\n",
      " [\"'50-59'\" \"'ge40'\" \"'15-19'\" ..., \"'central'\" \"'no'\"\n",
      "  \"'no-recurrence-events'\"]\n",
      " [\"'50-59'\" \"'ge40'\" \"'35-39'\" ..., \"'left_low'\" \"'no'\"\n",
      "  \"'recurrence-events'\"]\n",
      " ..., \n",
      " [\"'30-39'\" \"'premeno'\" \"'30-34'\" ..., \"'right_up'\" \"'no'\"\n",
      "  \"'no-recurrence-events'\"]\n",
      " [\"'50-59'\" \"'premeno'\" \"'15-19'\" ..., \"'left_low'\" \"'no'\"\n",
      "  \"'no-recurrence-events'\"]\n",
      " [\"'50-59'\" \"'ge40'\" \"'40-44'\" ..., \"'right_up'\" \"'no'\"\n",
      "  \"'no-recurrence-events'\"]]\n"
     ]
    }
   ],
   "source": [
    "#Load the data\n",
    "dataSet = pd.read_csv(\"D:\\\\xgboost_with_python\\\\code\\\\chapter_05\\\\datasets-uci-breast-cancer.csv\",header=None)\n",
    "ColCount = dataSet.shape[1]\n",
    "data = dataSet.values\n",
    "print (data)"
   ]
  },
  {
   "cell_type": "code",
   "execution_count": 18,
   "metadata": {
    "collapsed": true,
    "deletable": true,
    "editable": true
   },
   "outputs": [],
   "source": [
    "#Devide in X and Y parts\n",
    "X = data[: , 0:9]\n",
    "Y = data[:,9]"
   ]
  },
  {
   "cell_type": "code",
   "execution_count": 24,
   "metadata": {
    "collapsed": true,
    "deletable": true,
    "editable": true
   },
   "outputs": [],
   "source": [
    "#LabelEncode the string variables\n",
    "X = X.astype(str)\n",
    "labelEncoder = LabelEncoder()"
   ]
  },
  {
   "cell_type": "code",
   "execution_count": 27,
   "metadata": {
    "collapsed": true,
    "deletable": true,
    "editable": true
   },
   "outputs": [],
   "source": [
    "Columns =[]\n",
    "for i in range(0,(ColCount-1)):\n",
    "    feature = labelEncoder.fit_transform(X[:,i])\n",
    "    feature = feature.reshape(X.shape[0],1)\n",
    "    oneHotEncoder = OneHotEncoder(sparse=False)\n",
    "    feature_encoded = oneHotEncoder.fit_transform(feature)\n",
    "    Columns.append(feature)\n",
    "\n",
    "encoded_X = column_stack(Columns)\n",
    "    "
   ]
  },
  {
   "cell_type": "code",
   "execution_count": 34,
   "metadata": {
    "collapsed": true,
    "deletable": true,
    "editable": true
   },
   "outputs": [],
   "source": [
    "Y_tra = labelEncoder.fit_transform(Y)"
   ]
  },
  {
   "cell_type": "code",
   "execution_count": 48,
   "metadata": {
    "collapsed": true,
    "deletable": true,
    "editable": true
   },
   "outputs": [],
   "source": [
    "#creating the training and testing set\n",
    "XTrain,XTest,YTrain,YTest = train_test_split(encoded_X,Y_tra,test_size = 0.33,random_state = 7)"
   ]
  },
  {
   "cell_type": "code",
   "execution_count": 49,
   "metadata": {
    "collapsed": false,
    "deletable": true,
    "editable": true
   },
   "outputs": [
    {
     "data": {
      "text/plain": [
       "XGBClassifier(base_score=0.5, colsample_bylevel=1, colsample_bytree=1,\n",
       "       gamma=0, learning_rate=0.1, max_delta_step=0, max_depth=3,\n",
       "       min_child_weight=1, missing=None, n_estimators=100, nthread=-1,\n",
       "       objective='binary:logistic', reg_alpha=0, reg_lambda=1,\n",
       "       scale_pos_weight=1, seed=0, silent=True, subsample=1)"
      ]
     },
     "execution_count": 49,
     "metadata": {},
     "output_type": "execute_result"
    }
   ],
   "source": [
    "model = XGBClassifier()\n",
    "model.fit(XTrain,YTrain)"
   ]
  },
  {
   "cell_type": "code",
   "execution_count": 50,
   "metadata": {
    "collapsed": false,
    "deletable": true,
    "editable": true
   },
   "outputs": [
    {
     "name": "stdout",
     "output_type": "stream",
     "text": [
      "0.726315789474\n"
     ]
    }
   ],
   "source": [
    "#as this is a binary classification problem, XGBoost has selected binary:logistic\n",
    "pred= model.predict(XTest)\n",
    "print (accuracy_score(YTest,pred))"
   ]
  },
  {
   "cell_type": "code",
   "execution_count": null,
   "metadata": {
    "collapsed": true,
    "deletable": true,
    "editable": true
   },
   "outputs": [],
   "source": []
  },
  {
   "cell_type": "code",
   "execution_count": null,
   "metadata": {
    "collapsed": true,
    "deletable": true,
    "editable": true
   },
   "outputs": [],
   "source": []
  }
 ],
 "metadata": {
  "kernelspec": {
   "display_name": "Python 2",
   "language": "python",
   "name": "python2"
  },
  "language_info": {
   "codemirror_mode": {
    "name": "ipython",
    "version": 2
   },
   "file_extension": ".py",
   "mimetype": "text/x-python",
   "name": "python",
   "nbconvert_exporter": "python",
   "pygments_lexer": "ipython2",
   "version": "2.7.13"
  }
 },
 "nbformat": 4,
 "nbformat_minor": 2
}
