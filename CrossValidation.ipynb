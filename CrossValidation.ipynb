{
 "cells": [
  {
   "cell_type": "code",
   "execution_count": 4,
   "metadata": {
    "collapsed": true,
    "deletable": true,
    "editable": true
   },
   "outputs": [],
   "source": [
    "import os\n",
    "mingw_path=\"C:\\\\Program Files\\\\mingw-w64\\\\x86_64-7.2.0-posix-seh-rt_v5-rev1\\mingw64\\\\bin\"\n",
    "os.environ['PATH'] = mingw_path + ';' + os.environ['PATH']"
   ]
  },
  {
   "cell_type": "code",
   "execution_count": 19,
   "metadata": {
    "collapsed": true,
    "deletable": true,
    "editable": true
   },
   "outputs": [],
   "source": [
    "from xgboost import XGBClassifier\n",
    "from sklearn.preprocessing import LabelEncoder\n",
    "from sklearn.preprocessing import OneHotEncoder\n",
    "import pandas as pd\n",
    "import numpy as  np\n",
    "from sklearn.model_selection import  KFold\n",
    "from sklearn.model_selection import cross_val_score"
   ]
  },
  {
   "cell_type": "code",
   "execution_count": 6,
   "metadata": {
    "collapsed": false,
    "deletable": true,
    "editable": true
   },
   "outputs": [
    {
     "name": "stdout",
     "output_type": "stream",
     "text": [
      "Loan_ID               object\n",
      "Gender                object\n",
      "Married               object\n",
      "Dependents            object\n",
      "Education             object\n",
      "Self_Employed         object\n",
      "ApplicantIncome        int64\n",
      "CoapplicantIncome    float64\n",
      "LoanAmount           float64\n",
      "Loan_Amount_Term     float64\n",
      "Credit_History       float64\n",
      "Property_Area         object\n",
      "Loan_Status           object\n",
      "dtype: object\n"
     ]
    }
   ],
   "source": [
    "dataSet = pd.read_csv(\"D:\\\\Hackethon\\\\LoanPrediction\\\\train.csv\",na_values=[\"NaN\",\"nan\",\" \"])\n",
    "print(dataSet.dtypes)"
   ]
  },
  {
   "cell_type": "code",
   "execution_count": 7,
   "metadata": {
    "collapsed": true,
    "deletable": true,
    "editable": true
   },
   "outputs": [],
   "source": [
    "dataSet.drop(\"Loan_ID\",axis =1,inplace =True)"
   ]
  },
  {
   "cell_type": "code",
   "execution_count": 8,
   "metadata": {
    "collapsed": false,
    "deletable": true,
    "editable": true
   },
   "outputs": [
    {
     "name": "stdout",
     "output_type": "stream",
     "text": [
      "Gender               object\n",
      "Married              object\n",
      "Dependents           object\n",
      "Education            object\n",
      "Self_Employed        object\n",
      "Loan_Amount_Term    float64\n",
      "Credit_History      float64\n",
      "Property_Area        object\n",
      "Loan_Status          object\n",
      "dtype: object\n"
     ]
    }
   ],
   "source": [
    "ApplicantIncome = dataSet[\"ApplicantIncome\"]\n",
    "CoapplicantIncome = dataSet[\"CoapplicantIncome\"]\n",
    "LoanAmount = dataSet[\"LoanAmount\"]\n",
    "dataSet.drop(\"ApplicantIncome\",axis =1,inplace =True)\n",
    "dataSet.drop(\"CoapplicantIncome\",axis =1,inplace =True)\n",
    "dataSet.drop(\"LoanAmount\",axis =1,inplace =True)\n",
    "print(dataSet.dtypes)"
   ]
  },
  {
   "cell_type": "code",
   "execution_count": 9,
   "metadata": {
    "collapsed": true,
    "deletable": true,
    "editable": true
   },
   "outputs": [],
   "source": [
    "ConData = pd.DataFrame({\"ApplicantIncome\":ApplicantIncome,\"CoapplicantIncome\":CoapplicantIncome,\"LoanAmount\":LoanAmount})"
   ]
  },
  {
   "cell_type": "code",
   "execution_count": 10,
   "metadata": {
    "collapsed": true,
    "deletable": true,
    "editable": true
   },
   "outputs": [],
   "source": [
    "ConData[\"LoanAmount\"] = ConData[\"LoanAmount\"]*1000"
   ]
  },
  {
   "cell_type": "code",
   "execution_count": 11,
   "metadata": {
    "collapsed": true,
    "deletable": true,
    "editable": true
   },
   "outputs": [],
   "source": [
    "conVal =ConData.values"
   ]
  },
  {
   "cell_type": "code",
   "execution_count": 12,
   "metadata": {
    "collapsed": true,
    "deletable": true,
    "editable": true
   },
   "outputs": [],
   "source": [
    "DataSetVale = dataSet.values"
   ]
  },
  {
   "cell_type": "code",
   "execution_count": 13,
   "metadata": {
    "collapsed": true,
    "deletable": true,
    "editable": true
   },
   "outputs": [],
   "source": [
    "X = DataSetVale[:,0:8]\n",
    "Y =  DataSetVale[:,8]"
   ]
  },
  {
   "cell_type": "code",
   "execution_count": 15,
   "metadata": {
    "collapsed": true,
    "deletable": true,
    "editable": true
   },
   "outputs": [],
   "source": [
    "X = X.astype(str)\n",
    "Columns =[]\n",
    "labelEncoder =LabelEncoder()\n",
    "for i in range(0,7):\n",
    "    feature = labelEncoder.fit_transform(X[:,i])\n",
    "    feature = feature.reshape(X.shape[0],1)\n",
    "    oneHotEncoder = OneHotEncoder(sparse=False)\n",
    "    Feature_encoded = oneHotEncoder.fit_transform(feature)\n",
    "    Columns.append(Feature_encoded)\n",
    "X_Encoded = column_stack(Columns)\n",
    "    "
   ]
  },
  {
   "cell_type": "code",
   "execution_count": 20,
   "metadata": {
    "collapsed": true,
    "deletable": true,
    "editable": true
   },
   "outputs": [],
   "source": [
    "XNew = np.concatenate((X_Encoded,conVal),axis=1)"
   ]
  },
  {
   "cell_type": "code",
   "execution_count": 21,
   "metadata": {
    "collapsed": true,
    "deletable": true,
    "editable": true
   },
   "outputs": [],
   "source": [
    "Y_tra = labelEncoder.fit_transform(Y)"
   ]
  },
  {
   "cell_type": "code",
   "execution_count": 22,
   "metadata": {
    "collapsed": true,
    "deletable": true,
    "editable": true
   },
   "outputs": [],
   "source": [
    "model = XGBClassifier()\n",
    "kfold = KFold(n_splits=7,random_state=7)\n",
    "results = cross_val_score(model,XNew,Y_tra,cv=kfold)"
   ]
  },
  {
   "cell_type": "code",
   "execution_count": 26,
   "metadata": {
    "collapsed": false,
    "deletable": true,
    "editable": true
   },
   "outputs": [
    {
     "name": "stdout",
     "output_type": "stream",
     "text": [
      "accuracy : 78.51% (4.16%)\n"
     ]
    }
   ],
   "source": [
    "print (\"accuracy : %.2f%% (%.2f%%)\" %(results.mean()*100 ,results.std()*100))"
   ]
  },
  {
   "cell_type": "code",
   "execution_count": null,
   "metadata": {
    "collapsed": true,
    "deletable": true,
    "editable": true
   },
   "outputs": [],
   "source": []
  }
 ],
 "metadata": {
  "kernelspec": {
   "display_name": "Python 2",
   "language": "python",
   "name": "python2"
  },
  "language_info": {
   "codemirror_mode": {
    "name": "ipython",
    "version": 2
   },
   "file_extension": ".py",
   "mimetype": "text/x-python",
   "name": "python",
   "nbconvert_exporter": "python",
   "pygments_lexer": "ipython2",
   "version": "2.7.13"
  }
 },
 "nbformat": 4,
 "nbformat_minor": 2
}
